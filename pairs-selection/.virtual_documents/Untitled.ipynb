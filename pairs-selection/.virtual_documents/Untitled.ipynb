import warnings

import matplotlib.pyplot as plt
import numpy as np
import pandas as pd
from scipy.stats import wilcoxon

from utils_file.tools import load_cache_file

warnings.filterwarnings("ignore")

path = "figure_file"
