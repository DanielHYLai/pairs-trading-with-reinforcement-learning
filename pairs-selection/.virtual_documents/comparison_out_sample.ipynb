import warnings

import matplotlib.pyplot as plt
import numpy as np
import pandas as pd
from scipy.stats import wilcoxon

from utils_file.tools import load_cache_file

warnings.filterwarnings("ignore")

path = "figure_file"


test_result = load_cache_file("pre-train-fixWindow/test_result_119.pkl")
test_result_reward = list(test_result["reward_result"].values())





test_data = pd.read_csv("data_file/test_PT.csv")
tickers = test_data["Ticker"].unique()


# 將個股的股價資料新增 Bollinger bands & daily log return
BB_value = []

for ticker in tickers:
    temp = test_data[test_data["Ticker"] == ticker]
    temp["ma_line"] = temp["Close"].rolling(window=5).mean()
    std = temp["Close"].rolling(window=5).std()
    temp["upper_bound"] = temp["ma_line"] + std
    temp["lower_bound"] = temp["ma_line"] - std
    temp["log_rtn"] = np.log(temp["Close"] / temp["Close"].shift(1))
    temp = temp.dropna()
    BB_value.append(temp)

test_append = pd.concat(BB_value, ignore_index=True)


# 將個股的股價資料按照每個月切割出來，並存於字典中
split_test = {}

unique_years = test_append["Year"].unique()
unique_months = test_append["Month"].unique()

idx = 1
for year in unique_years:
    for month in unique_months:
        split_test[f"state_{idx}"] = {}
        
        date_mask  = (test_append["Year"] == year) & (test_append["Month"] == month)
        mask_table = test_append[date_mask]
        
        for ticker in tickers:
            split_test[f"state_{idx}"][ticker] = mask_table[mask_table["Ticker"] == ticker]
        
        idx += 1


# 每一支成分股都執行一次自定義交易策略
trading_result_BB = {}

for state in list(split_test.keys()):
    all_ticker_reward = []

    for ticker in tickers:
        temp = split_test[state][ticker]

        ## 判斷是否建倉
        ub_open_flag = False
        lb_open_flag = False
        status_list = []

        for i, row in temp.iterrows():
            if row["Close"] > row["upper_bound"] and ub_open_flag is False:
                status_list.append("UB_open")
                ub_open_flag = True

            elif row["Close"] < row["ma_line"] and ub_open_flag is True:
                status_list.append("UB_close")
                ub_open_flag = False

            elif row["Close"] < row["lower_bound"] and lb_open_flag is False:
                status_list.append("LB_open")
                lb_open_flag = True

            elif row["Close"] > row["ma_line"] and lb_open_flag is True:
                status_list.append("LB_close")
                lb_open_flag = False

            else:
                status_list.append(0)

        status_list[-1] = "close"
        temp["status"] = status_list

        ## 實際執行交易策略結果
        reward_record = []
        UB_price = None
        LB_price = None

        for i, row in temp.iterrows():
            if row["status"] == "UB_open" and UB_price is None:
                UB_price = row["Close"]

            elif row["status"] == "LB_open" and LB_price is None:
                LB_price = row["Close"]

            elif row["status"] == "UB_close" and UB_price is not None:
                simple_return = (row["Close"] - UB_price) / UB_price
                reward_record.append(simple_return)
                UB_price = None

            elif row["status"] == "LB_close" and LB_price is not None:
                simple_return = -(row["Close"] - LB_price) / LB_price
                reward_record.append(simple_return)
                LB_price = None

            elif row["status"] == "close" and UB_price is not None:
                simple_return = (row["Close"] - UB_price) / UB_price
                reward_record.append(simple_return)

            elif row["status"] == "close" and LB_price is not None:
                simple_return = -(row["Close"] - LB_price) / LB_price
                reward_record.append(simple_return)

        all_ticker_reward.append(sum(reward_record))

    trading_result_BB[state] = all_ticker_reward


# 每一支成分股都執行一次 B&H 交易策略
trading_result_BandH = {}

for state in list(split_test.keys()):
    all_ticker_reward = []

    for ticker in tickers:
        all_ticker_reward.append(split_test[state][ticker]["log_rtn"].sum())

    trading_result_BandH[state] = all_ticker_reward





trading_table_BandH = pd.DataFrame(trading_result_BandH)

above_median_x, above_median_y = [], []
below_median_x, below_median_y = [], []

for x, y in enumerate(trading_table_BandH.median()):
    value = test_result_reward[x]

    if value > y:
        above_median_x.append(x + 1)
        above_median_y.append(value)

    else:
        below_median_x.append(x + 1)
        below_median_y.append(value)


plt.figure(figsize=(16, 6))
plt.boxplot(trading_table_BandH)
plt.scatter(above_median_x, above_median_y, s=90, color="red", marker="o", 
            label=f"{len(above_median_x)}")
plt.scatter(below_median_x, below_median_y, s=90, color="blue", marker="x", 
            label=f"{len(below_median_x)}")
plt.xlabel("Month", fontsize=14)
plt.ylabel("Reward", fontsize=14)
plt.legend()
plt.title("Target: Reduced Components  Strategy: Bollinger Bands", fontsize=16)
plt.show()



