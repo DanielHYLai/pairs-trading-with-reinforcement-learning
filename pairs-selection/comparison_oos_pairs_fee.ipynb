{
 "cells": [
  {
   "cell_type": "code",
   "execution_count": 1,
   "id": "7ecf8781",
   "metadata": {},
   "outputs": [],
   "source": [
    "from utils_file.tools import load_cache_file"
   ]
  },
  {
   "cell_type": "code",
   "execution_count": 8,
   "id": "94449e99",
   "metadata": {},
   "outputs": [],
   "source": [
    "dqn_result = load_cache_file(\"pre-train-fixWindow/test_result_119.pkl\")\n",
    "action_list = list(dqn_result[\"action_result\"].values())"
   ]
  },
  {
   "cell_type": "code",
   "execution_count": null,
   "id": "4f71703e",
   "metadata": {},
   "outputs": [],
   "source": []
  }
 ],
 "metadata": {
  "kernelspec": {
   "display_name": "base",
   "language": "python",
   "name": "python3"
  },
  "language_info": {
   "codemirror_mode": {
    "name": "ipython",
    "version": 3
   },
   "file_extension": ".py",
   "mimetype": "text/x-python",
   "name": "python",
   "nbconvert_exporter": "python",
   "pygments_lexer": "ipython3",
   "version": "3.12.4"
  }
 },
 "nbformat": 4,
 "nbformat_minor": 5
}
